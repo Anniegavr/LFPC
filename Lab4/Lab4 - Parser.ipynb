{
 "cells": [
  {
   "cell_type": "code",
   "execution_count": 2,
   "id": "fa26b0e0",
   "metadata": {},
   "outputs": [
    {
     "data": {
      "text/plain": [
       "'G=(VN, VT, P, S,), VN ={S, A, B, C, D}, VT ={a,b,c,d,e},\\nP={ \\n1. S → B \\n2. B → C \\n3. B → C c B\\n4. C → a d D \\n5. D → A e \\n6. A → b \\n7. A → A b, \\n8. B → d \\n}'"
      ]
     },
     "execution_count": 2,
     "metadata": {},
     "output_type": "execute_result"
    }
   ],
   "source": [
    "\"\"\"G=(VN, VT, P, S,), VN ={S, A, B, C, D}, VT ={a,b,c,d,e},\n",
    "P={ \n",
    "1. S → B \n",
    "2. B → C \n",
    "3. B → C c B\n",
    "4. C → a d D \n",
    "5. D → A e \n",
    "6. A → b \n",
    "7. A → A b, \n",
    "8. B → d \n",
    "}\"\"\""
   ]
  },
  {
   "cell_type": "code",
   "execution_count": 3,
   "id": "d0e8c48b",
   "metadata": {},
   "outputs": [],
   "source": [
    "Prod = {'S':['B'], 'A':['b', 'Ab'], 'B':['C', 'CcB', 'd'], 'C':['sdD'], 'D':['A'] }"
   ]
  },
  {
   "cell_type": "code",
   "execution_count": 8,
   "id": "51ee3249",
   "metadata": {},
   "outputs": [
    {
     "name": "stdout",
     "output_type": "stream",
     "text": [
      "firstS | ['B', 'C', 'd']\n",
      "firstA | ['b', 'A']\n",
      "firstB | ['C', 'd', 's']\n",
      "firstC | ['s']\n",
      "firstD | ['A', 'b']\n"
     ]
    }
   ],
   "source": [
    "first={}\n",
    "for state, rule in Prod.items():\n",
    "    f_list = []\n",
    "    for s in rule:\n",
    "        if s[0] not in f_list:\n",
    "            f_list.append(s[0])\n",
    "    first[state] = f_list\n",
    "for k, v in first.items():\n",
    "    found = []\n",
    "    for st in v:\n",
    "        if st[0] in first.keys():\n",
    "            found.extend(first[st[0]])\n",
    "    for s in found:\n",
    "        if s not in v:\n",
    "            v.extend(s)\n",
    "for nk, nv in first.items():\n",
    "    print(f'first{nk} | {nv}')"
   ]
  },
  {
   "cell_type": "code",
   "execution_count": 28,
   "id": "17cf61e9",
   "metadata": {},
   "outputs": [
    {
     "name": "stdout",
     "output_type": "stream",
     "text": [
      "lastS | ['B', 'b', 'C', 'd', 'D', 'A']\n",
      "lastA | ['b', 'C', 'B', 'd', 'D', 'A']\n",
      "lastB | ['C', 'B', 'd', 'b', 'D', 'A']\n",
      "lastC | ['D', 'b', 'C', 'B', 'd', 'A']\n",
      "lastD | ['A', 'b', 'C', 'B', 'd', 'D']\n"
     ]
    }
   ],
   "source": [
    "# Prod = {'S':['B'], 'A':['b', 'Ab'], 'B':['C', 'CcB', 'd'], 'C':['sdD'], 'D':['A'] }\n",
    "last={}\n",
    "for lstate, lrule in Prod.items():\n",
    "    l_list = []\n",
    "    for ns in lrule:\n",
    "        if ns[-1] not in l_list:\n",
    "            l_list.append(ns[-1])\n",
    "    last[lstate] = l_list\n",
    "\n",
    "for lk, lv in last.items():\n",
    "    lfound = []\n",
    "    for lst in v:\n",
    "        if lst[-1] in last.keys():\n",
    "            lfound.extend(last[lst[-1]])\n",
    "    for ls in lfound:\n",
    "        if ls not in lv:\n",
    "            lv.extend(ls)\n",
    "for lk, lv in last.items():\n",
    "    print(f'last{lk} | {lv}')"
   ]
  },
  {
   "cell_type": "code",
   "execution_count": null,
   "id": "491f3588",
   "metadata": {},
   "outputs": [],
   "source": []
  }
 ],
 "metadata": {
  "kernelspec": {
   "display_name": "Python 3",
   "language": "python",
   "name": "python3"
  },
  "language_info": {
   "codemirror_mode": {
    "name": "ipython",
    "version": 3
   },
   "file_extension": ".py",
   "mimetype": "text/x-python",
   "name": "python",
   "nbconvert_exporter": "python",
   "pygments_lexer": "ipython3",
   "version": "3.8.8"
  }
 },
 "nbformat": 4,
 "nbformat_minor": 5
}
