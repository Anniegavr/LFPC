{
 "cells": [
  {
   "cell_type": "code",
   "execution_count": 1,
   "id": "fa26b0e0",
   "metadata": {},
   "outputs": [
    {
     "data": {
      "text/plain": [
       "'G=(VN, VT, P, S,), VN ={S, A, B, C, D}, VT ={a,b,c,d,e},\\nP={ \\n1. S → B \\n2. B → C \\n3. B → C c B\\n4. C → a d D \\n5. D → A e \\n6. A → b \\n7. A → A b, \\n8. B → d \\n}'"
      ]
     },
     "execution_count": 1,
     "metadata": {},
     "output_type": "execute_result"
    }
   ],
   "source": [
    "\"\"\"G=(VN, VT, P, S,), VN ={S, A, B, C, D}, VT ={a,b,c,d,e},\n",
    "P={ \n",
    "1. S → B \n",
    "2. B → C \n",
    "3. B → C c B\n",
    "4. C → a d D \n",
    "5. D → A e \n",
    "6. A → b \n",
    "7. A → A b, \n",
    "8. B → d \n",
    "}\"\"\""
   ]
  },
  {
   "cell_type": "code",
   "execution_count": 2,
   "id": "d0e8c48b",
   "metadata": {},
   "outputs": [],
   "source": [
    "Prod = {'S':['B'], 'A':['b', 'Ab'], 'B':['C', 'CcB', 'd'], 'C':['sdD'], 'D':['A'] }"
   ]
  },
  {
   "cell_type": "code",
   "execution_count": 3,
   "id": "dbbc03f1",
   "metadata": {},
   "outputs": [
    {
     "name": "stdout",
     "output_type": "stream",
     "text": [
      "firstS | ['B', 'C', 'd']\n",
      "firstA | ['b', 'A']\n",
      "firstB | ['C', 'd', 's']\n",
      "firstC | ['s']\n",
      "firstD | ['A', 'b']\n"
     ]
    }
   ],
   "source": [
    "first={}\n",
    "for state, rule in Prod.items():\n",
    "    f_list = []\n",
    "    for s in rule:\n",
    "        if s[0] not in f_list:\n",
    "            f_list.append(s[0])\n",
    "    first[state] = f_list\n",
    "for k, v in first.items():\n",
    "    found = []\n",
    "    for st in v:\n",
    "        if st[0] in first.keys():\n",
    "            found.extend(first[st[0]])\n",
    "    for s in found:\n",
    "        if s not in v:\n",
    "            v.extend(s)\n",
    "for nk, nv in first.items():\n",
    "    print(f'first{nk} | {nv}')"
   ]
  },
  {
   "cell_type": "code",
   "execution_count": 4,
   "id": "48ac077d",
   "metadata": {},
   "outputs": [
    {
     "name": "stdout",
     "output_type": "stream",
     "text": [
      "lastS | ['B', 'b']\n",
      "lastA | ['b']\n",
      "lastB | ['C', 'B', 'd', 'b']\n",
      "lastC | ['D', 'b']\n",
      "lastD | ['A', 'b']\n"
     ]
    }
   ],
   "source": [
    "# Prod = {'S':['B'], 'A':['b', 'Ab'], 'B':['C', 'CcB', 'd'], 'C':['sdD'], 'D':['A'] }\n",
    "last={}\n",
    "for lstate, lrule in Prod.items():\n",
    "    l_list = []\n",
    "    for ns in lrule:\n",
    "        if ns[-1] not in l_list:\n",
    "            l_list.append(ns[-1])\n",
    "    last[lstate] = l_list\n",
    "\n",
    "for lk, lv in last.items():\n",
    "    lfound = []\n",
    "    for lst in v:\n",
    "        if lst[-1] in last.keys():\n",
    "            lfound.extend(last[lst[-1]])\n",
    "    for ls in lfound:\n",
    "        if ls not in lv:\n",
    "            lv.extend(ls)\n",
    "for lk, lv in last.items():\n",
    "    print(f'last{lk} | {lv}')"
   ]
  },
  {
   "cell_type": "code",
   "execution_count": 39,
   "id": "7a8cef9a",
   "metadata": {},
   "outputs": [
    {
     "name": "stdout",
     "output_type": "stream",
     "text": [
      "{'S': ['B'], 'A': ['b', 'Ab'], 'B': ['C', 'CcB', 'd'], 'C': ['sdD'], 'D': ['A']}\n"
     ]
    },
    {
     "data": {
      "text/plain": [
       "{'A': [['=', 'b'], ['<', 'b'], ['>', 'b']],\n",
       " 'b': [['-'], ['<', 'b'], ['-']],\n",
       " 'C': [['=', 'c'], ['-'], ['-']],\n",
       " 's': [['=', 'd'], ['-'], ['-']],\n",
       " 'D': [['-'], ['-'], ['>', 'c']],\n",
       " 'c': [['=', 'B'], ['-'], ['-']],\n",
       " 'd': [['=', 'D'], ['-'], ['-']]}"
      ]
     },
     "execution_count": 39,
     "metadata": {},
     "output_type": "execute_result"
    }
   ],
   "source": [
    "# Prod = {'S':['B'], 'A':['b', 'Ab'], 'B':['C', 'CcB', 'd'], 'C':['sdD'], 'D':['A'] }\n",
    "print(Prod)\n",
    "precedence_matrix = {}\n",
    "for r in Prod.values():\n",
    "    for rule_s in r:\n",
    "        if len(rule_s)>1:\n",
    "            for i in range(0,len(rule_s)-1):   \n",
    "                #neighbors are = in precedence                \n",
    "                precedence_matrix[rule_s[i][0]] = [['=', rule_s[(i+1)]],['-'],['-']]    # symbol : ['=', smthg] ['<', smthg] ['>', smthg]\n",
    "                if rule_s[i][0] in first.keys():\n",
    "                    for r in first[rule_s[i][0]]:\n",
    "                        #but left-side neighbor < its first(right-side neighbor)\n",
    "                        if r not in precedence_matrix.keys():\n",
    "                            precedence_matrix[str(r)] = [['-'],['<', rule_s[(i+1)]],['-']]   \n",
    "                        elif r in precedence_matrix.keys():\n",
    "                            precedence_matrix[str(r)][1] = ['<', rule_s[(i+1)]]\n",
    "                if rule_s[i][0] in last.keys() and rule_s[i+1][0] in first.keys():\n",
    "                    for rl in last[rule_s[i][0]]:\n",
    "                        #but last(left-side neighbor) > its first(right-side neighbor)\n",
    "                        if rl not in precedence_matrix.keys():\n",
    "                            for f in first(rule_s[(i+1)]):\n",
    "                                precedence_matrix[str(rl)] = [['-'],['-'],['>', f]]   \n",
    "                        elif r in precedence_matrix.keys():\n",
    "                            precedence_matrix[str(r)][2] = ['>', f]\n",
    "                if rule_s[i][0] in last.keys() and rule_s[i+1][0] not in first.keys():\n",
    "                #but last(left-side neighbor) > its right-side terminal-symbol neighbor\n",
    "                    for rl in last[rule_s[i][0]]:\n",
    "                        if rl not in precedence_matrix.keys():\n",
    "                            precedence_matrix[str(rl)] = [['-'],['-'],['>', rule_s[i+1]]]   \n",
    "                        elif r in precedence_matrix.keys() and len(rule_s)>1:\n",
    "                            precedence_matrix[str(r)][2] = ['>', rule_s[i+1]]\n",
    "precedence_matrix"
   ]
  },
  {
   "cell_type": "code",
   "execution_count": 8,
   "id": "5ff6c28e",
   "metadata": {},
   "outputs": [
    {
     "ename": "TypeError",
     "evalue": "_append_dispatcher() missing 1 required positional argument: 'values'",
     "output_type": "error",
     "traceback": [
      "\u001b[1;31m---------------------------------------------------------------------------\u001b[0m",
      "\u001b[1;31mTypeError\u001b[0m                                 Traceback (most recent call last)",
      "\u001b[1;32m<ipython-input-8-66125b48e4be>\u001b[0m in \u001b[0;36m<module>\u001b[1;34m\u001b[0m\n\u001b[0;32m     13\u001b[0m         \u001b[1;32mfor\u001b[0m \u001b[0msy\u001b[0m \u001b[1;32min\u001b[0m \u001b[0mv\u001b[0m\u001b[1;33m:\u001b[0m\u001b[1;33m\u001b[0m\u001b[1;33m\u001b[0m\u001b[0m\n\u001b[0;32m     14\u001b[0m               \u001b[0mprev\u001b[0m\u001b[1;33m.\u001b[0m\u001b[0mappend\u001b[0m\u001b[1;33m(\u001b[0m\u001b[0msy\u001b[0m\u001b[1;33m)\u001b[0m\u001b[1;33m\u001b[0m\u001b[1;33m\u001b[0m\u001b[0m\n\u001b[1;32m---> 15\u001b[1;33m     \u001b[0mnew_prec_matrix\u001b[0m \u001b[1;33m=\u001b[0m \u001b[0mnp\u001b[0m\u001b[1;33m.\u001b[0m\u001b[0mappend\u001b[0m\u001b[1;33m(\u001b[0m\u001b[1;33m(\u001b[0m\u001b[0mprev\u001b[0m\u001b[1;33m,\u001b[0m\u001b[0mlas\u001b[0m\u001b[1;33m)\u001b[0m\u001b[1;33m)\u001b[0m\u001b[1;33m\u001b[0m\u001b[1;33m\u001b[0m\u001b[0m\n\u001b[0m\u001b[0;32m     16\u001b[0m \u001b[1;33m\u001b[0m\u001b[0m\n\u001b[0;32m     17\u001b[0m \u001b[1;33m\u001b[0m\u001b[0m\n",
      "\u001b[1;32m<__array_function__ internals>\u001b[0m in \u001b[0;36mappend\u001b[1;34m(*args, **kwargs)\u001b[0m\n",
      "\u001b[1;31mTypeError\u001b[0m: _append_dispatcher() missing 1 required positional argument: 'values'"
     ]
    }
   ],
   "source": [
    "# import numpy as np\n",
    "# new_prec_matrix = np.array((),dtype=object)\n",
    "# for k, v in precedence_matrix.items():\n",
    "#     prev = []\n",
    "#     las = []\n",
    "#     if '>' in v:\n",
    "# #         print(type(v))\n",
    "#         for sym in v[1:v.index('>')]:\n",
    "#               prev.append(sym)\n",
    "#         for symm in v[v.index('>'):len(v)]:\n",
    "#               las.append(symm)\n",
    "#     else:\n",
    "#         for sy in v:\n",
    "#               prev.append(sy)\n",
    "#     new_prec_matrix = np.append((prev,las))\n",
    "\n",
    "\n",
    "# (new_prec_matrix)"
   ]
  }
 ],
 "metadata": {
  "kernelspec": {
   "display_name": "Python 3",
   "language": "python",
   "name": "python3"
  },
  "language_info": {
   "codemirror_mode": {
    "name": "ipython",
    "version": 3
   },
   "file_extension": ".py",
   "mimetype": "text/x-python",
   "name": "python",
   "nbconvert_exporter": "python",
   "pygments_lexer": "ipython3",
   "version": "3.8.8"
  }
 },
 "nbformat": 4,
 "nbformat_minor": 5
}
