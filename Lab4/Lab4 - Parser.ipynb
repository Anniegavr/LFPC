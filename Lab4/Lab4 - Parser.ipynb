{
 "cells": [
  {
   "cell_type": "code",
   "execution_count": 86,
   "id": "fa26b0e0",
   "metadata": {},
   "outputs": [
    {
     "data": {
      "text/plain": [
       "'G=(VN, VT, P, S,), VN ={S, A, B, C, D}, VT ={a,b,c,d,e},\\nP={ \\n1. S → B \\n2. B → C \\n3. B → C c B\\n4. C → a d D \\n5. D → A e \\n6. A → b \\n7. A → A b, \\n8. B → d \\n}'"
      ]
     },
     "execution_count": 86,
     "metadata": {},
     "output_type": "execute_result"
    }
   ],
   "source": [
    "\"\"\"G=(VN, VT, P, S,), VN ={S, A, B, C, D}, VT ={a,b,c,d,e},\n",
    "P={ \n",
    "1. S → B \n",
    "2. B → C \n",
    "3. B → C c B\n",
    "4. C → a d D \n",
    "5. D → A e \n",
    "6. A → b \n",
    "7. A → A b, \n",
    "8. B → d \n",
    "}\"\"\""
   ]
  },
  {
   "cell_type": "code",
   "execution_count": 103,
   "id": "d0e8c48b",
   "metadata": {},
   "outputs": [],
   "source": [
    "Prod = {'S':['B'], 'A':['b', 'Ab'], 'B':['C', 'CcB', 'd'], 'C':['sdD'], 'D':['A'] }"
   ]
  },
  {
   "cell_type": "code",
   "execution_count": 104,
   "id": "dbbc03f1",
   "metadata": {},
   "outputs": [
    {
     "name": "stdout",
     "output_type": "stream",
     "text": [
      "firstS | ['B', 'C', 'd']\n",
      "firstA | ['b', 'A']\n",
      "firstB | ['C', 'd', 's']\n",
      "firstC | ['s']\n",
      "firstD | ['A', 'b']\n"
     ]
    }
   ],
   "source": [
    "first={}\n",
    "for state, rule in Prod.items():\n",
    "    f_list = []\n",
    "    for s in rule:\n",
    "        if s[0] not in f_list:\n",
    "            f_list.append(s[0])\n",
    "    first[state] = f_list\n",
    "for k, v in first.items():\n",
    "    found = []\n",
    "    for st in v:\n",
    "        if st[0] in first.keys():\n",
    "            found.extend(first[st[0]])\n",
    "    for s in found:\n",
    "        if s not in v:\n",
    "            v.extend(s)\n",
    "for nk, nv in first.items():\n",
    "    print(f'first{nk} | {nv}')"
   ]
  },
  {
   "cell_type": "code",
   "execution_count": 105,
   "id": "48ac077d",
   "metadata": {},
   "outputs": [
    {
     "name": "stdout",
     "output_type": "stream",
     "text": [
      "lastS | ['B', 'b']\n",
      "lastA | ['b']\n",
      "lastB | ['C', 'B', 'd', 'b']\n",
      "lastC | ['D', 'b']\n",
      "lastD | ['A', 'b']\n"
     ]
    }
   ],
   "source": [
    "# Prod = {'S':['B'], 'A':['b', 'Ab'], 'B':['C', 'CcB', 'd'], 'C':['sdD'], 'D':['A'] }\n",
    "last={}\n",
    "for lstate, lrule in Prod.items():\n",
    "    l_list = []\n",
    "    for ns in lrule:\n",
    "        if ns[-1] not in l_list:\n",
    "            l_list.append(ns[-1])\n",
    "    last[lstate] = l_list\n",
    "\n",
    "for lk, lv in last.items():\n",
    "    lfound = []\n",
    "    for lst in v:\n",
    "        if lst[-1] in last.keys():\n",
    "            lfound.extend(last[lst[-1]])\n",
    "    for ls in lfound:\n",
    "        if ls not in lv:\n",
    "            lv.extend(ls)\n",
    "for lk, lv in last.items():\n",
    "    print(f'last{lk} | {lv}')"
   ]
  },
  {
   "cell_type": "code",
   "execution_count": 106,
   "id": "7a8cef9a",
   "metadata": {},
   "outputs": [
    {
     "data": {
      "text/plain": [
       "{'A': ['<', 'b'],\n",
       " 'C': ['<', 'cB', 'C', 'd', 's'],\n",
       " 'c': ['<', 'B', 'C', 'd', 's'],\n",
       " 's': ['<', 'dD', 'A', 'b'],\n",
       " 'd': ['<', 'D', 'A', 'b']}"
      ]
     },
     "execution_count": 106,
     "metadata": {},
     "output_type": "execute_result"
    }
   ],
   "source": [
    "# Prod = {'S':['B'], 'A':['b', 'Ab'], 'B':['C', 'CcB', 'd'], 'C':['sdD'], 'D':['A'] }\n",
    "precedence_matrix = {}\n",
    "for r in Prod.values():\n",
    "    for rule_s in r:\n",
    "        for i in range(0,len(rule_s)-1):\n",
    "            precedence_matrix[rule_s[i][0]] = ['<', rule_s[(i+1):]]\n",
    "for key, pr_state in precedence_matrix.items():\n",
    "    if pr_state[0][0] == '<':\n",
    "        for ps in pr_state[1:]:\n",
    "            for ch in ps:\n",
    "                if ch.isupper() and ch in first.keys():\n",
    "                    precedence_matrix[key].extend(first[ch])\n",
    "#     if pr_state[0][0] == '<' and key.isupper() and key in last.keys():\n",
    "#         for \n",
    "#         precedence_matrix[rule_s[i]] = ['<', rule_s[i+1]]\n",
    "# first\n",
    "precedence_matrix"
   ]
  },
  {
   "cell_type": "code",
   "execution_count": 107,
   "id": "5ad2c07b",
   "metadata": {},
   "outputs": [
    {
     "data": {
      "text/plain": [
       "{'A': ['<', 'b'],\n",
       " 'C': ['<', 'C', 'd', 's', 'c', 'B'],\n",
       " 'c': ['<', 'B', 'C', 'd', 's'],\n",
       " 's': ['<', 'A', 'b', 'd', 'D'],\n",
       " 'd': ['<', 'D', 'A', 'b']}"
      ]
     },
     "execution_count": 107,
     "metadata": {},
     "output_type": "execute_result"
    }
   ],
   "source": [
    "for val in precedence_matrix.values():\n",
    "#     print(val)\n",
    "    for le in val[1:]:\n",
    "        if len(le) > 1:\n",
    "            new_letters = []\n",
    "            for c in le:\n",
    "                new_letters.append(c)\n",
    "#             print(new_letters)\n",
    "            val.remove(val[val.index(le)])\n",
    "            val.extend(new_letters)\n",
    "precedence_matrix"
   ]
  },
  {
   "cell_type": "code",
   "execution_count": 108,
   "id": "53418caa",
   "metadata": {},
   "outputs": [
    {
     "name": "stdout",
     "output_type": "stream",
     "text": [
      "b\n",
      "C\n",
      "d\n",
      "s\n",
      "c\n",
      "B\n"
     ]
    },
    {
     "data": {
      "text/plain": [
       "{'A': ['<', 'b'],\n",
       " 'C': ['<', 'C', 'd', 's', 'c', 'B', '>', 'D', 'b'],\n",
       " 'c': ['<', 'B', 'C', 'd', 's', '>', 'D', 'b'],\n",
       " 's': ['<', 'A', 'b', 'd', 'D', '>', 'D', 'b'],\n",
       " 'd': ['<', 'D', 'A', 'b', '>', 'D', 'b']}"
      ]
     },
     "execution_count": 108,
     "metadata": {},
     "output_type": "execute_result"
    }
   ],
   "source": [
    "for chei, value in precedence_matrix.items():\n",
    "    if chei.isupper():\n",
    "        for sr in value[1:]:\n",
    "            if sr in precedence_matrix.keys():\n",
    "                precedence_matrix[sr].append('>')\n",
    "                precedence_matrix[sr].extend(last[chei])\n",
    "precedence_matrix"
   ]
  },
  {
   "cell_type": "code",
   "execution_count": null,
   "id": "08fbaa18",
   "metadata": {},
   "outputs": [],
   "source": []
  }
 ],
 "metadata": {
  "kernelspec": {
   "display_name": "Python 3",
   "language": "python",
   "name": "python3"
  },
  "language_info": {
   "codemirror_mode": {
    "name": "ipython",
    "version": 3
   },
   "file_extension": ".py",
   "mimetype": "text/x-python",
   "name": "python",
   "nbconvert_exporter": "python",
   "pygments_lexer": "ipython3",
   "version": "3.8.8"
  }
 },
 "nbformat": 4,
 "nbformat_minor": 5
}
