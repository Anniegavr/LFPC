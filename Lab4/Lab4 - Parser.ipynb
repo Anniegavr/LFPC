{
 "cells": [
  {
   "cell_type": "code",
   "execution_count": 7,
   "id": "fa26b0e0",
   "metadata": {},
   "outputs": [
    {
     "data": {
      "text/plain": [
       "'G=(VN, VT, P, S,), VN ={S, A, B, C, D}, VT ={a,b,c,d,e},\\nP={ \\n1. S → B \\n2. B → C \\n3. B → C c B\\n4. C → a d D \\n5. D → A e \\n6. A → b \\n7. A → A b, \\n8. B → d \\n}'"
      ]
     },
     "execution_count": 7,
     "metadata": {},
     "output_type": "execute_result"
    }
   ],
   "source": [
    "\"\"\"G=(VN, VT, P, S,), VN ={S, A, B, C, D}, VT ={a,b,c,d,e},\n",
    "P={ \n",
    "1. S → B \n",
    "2. B → C \n",
    "3. B → C c B\n",
    "4. C → a d D \n",
    "5. D → A e \n",
    "6. A → b \n",
    "7. A → A b, \n",
    "8. B → d \n",
    "}\"\"\""
   ]
  },
  {
   "cell_type": "code",
   "execution_count": 8,
   "id": "d0e8c48b",
   "metadata": {},
   "outputs": [],
   "source": [
    "Prod = {'S':['B'], 'A':['b', 'Ab'], 'B':['C', 'CcB', 'd'], 'C':['sdD'], 'D':['A'] }"
   ]
  },
  {
   "cell_type": "code",
   "execution_count": 51,
   "id": "dbbc03f1",
   "metadata": {},
   "outputs": [
    {
     "name": "stdout",
     "output_type": "stream",
     "text": [
      "firstS | ['B', 'C', 'd']\n",
      "firstA | ['b', 'A']\n",
      "firstB | ['C', 'd', 's']\n",
      "firstC | ['s']\n",
      "firstD | ['A', 'b']\n"
     ]
    }
   ],
   "source": [
    "first={}\n",
    "def frst(Prod):\n",
    "    for state, rule in Prod.items():\n",
    "        f_list = []\n",
    "        for s in rule:\n",
    "            if s[0] not in f_list:\n",
    "                f_list.append(s[0])\n",
    "        first[state] = f_list\n",
    "    for k, v in first.items():\n",
    "        found = []\n",
    "        for st in v:\n",
    "            if st[0] in first.keys():\n",
    "                found.extend(first[st[0]])\n",
    "        for s in found:\n",
    "            if s not in v:\n",
    "                v.extend(s)\n",
    "    for nk, nv in first.items():\n",
    "        print(f'first{nk} | {nv}')\n",
    "frst(Prod)"
   ]
  },
  {
   "cell_type": "code",
   "execution_count": 52,
   "id": "48ac077d",
   "metadata": {},
   "outputs": [
    {
     "name": "stdout",
     "output_type": "stream",
     "text": [
      "lastS | ['B', 'b']\n",
      "lastA | ['b']\n",
      "lastB | ['C', 'B', 'd', 'b']\n",
      "lastC | ['D', 'b']\n",
      "lastD | ['A', 'b']\n"
     ]
    }
   ],
   "source": [
    "# Prod = {'S':['B'], 'A':['b', 'Ab'], 'B':['C', 'CcB', 'd'], 'C':['sdD'], 'D':['A'] }\n",
    "last={}\n",
    "def lst(Prod):\n",
    "    for lstate, lrule in Prod.items():\n",
    "        l_list = []\n",
    "        for ns in lrule:\n",
    "            if ns[-1] not in l_list:\n",
    "                l_list.append(ns[-1])\n",
    "        last[lstate] = l_list\n",
    "\n",
    "    for lk, lv in last.items():\n",
    "        lfound = []\n",
    "        for lst in v:\n",
    "            if lst[-1] in last.keys():\n",
    "                lfound.extend(last[lst[-1]])\n",
    "        for ls in lfound:\n",
    "            if ls not in lv:\n",
    "                lv.extend(ls)\n",
    "    for lk, lv in last.items():\n",
    "        print(f'last{lk} | {lv}')\n",
    "lst(Prod)"
   ]
  },
  {
   "cell_type": "code",
   "execution_count": 54,
   "id": "7a8cef9a",
   "metadata": {},
   "outputs": [
    {
     "name": "stdout",
     "output_type": "stream",
     "text": [
      "{'S': ['B'], 'A': ['b', 'Ab'], 'B': ['C', 'CcB', 'd'], 'C': ['sdD'], 'D': ['A']}\n"
     ]
    },
    {
     "data": {
      "text/plain": [
       "{'A': [['=', 'b'], ['<', 'b'], ['>', 'b']],\n",
       " 'b': [['-'], ['<', 'b'], ['-']],\n",
       " 'C': [['=', 'c'], ['-'], ['-']],\n",
       " 's': [['=', 'd'], ['-'], ['-']],\n",
       " 'D': [['-'], ['-'], ['>', 'c']],\n",
       " 'c': [['=', 'B'], ['-'], ['-']],\n",
       " 'd': [['=', 'D'], ['-'], ['-']]}"
      ]
     },
     "execution_count": 54,
     "metadata": {},
     "output_type": "execute_result"
    }
   ],
   "source": [
    "# Prod = {'S':['B'], 'A':['b', 'Ab'], 'B':['C', 'CcB', 'd'], 'C':['sdD'], 'D':['A'] }\n",
    "print(Prod)\n",
    "precedence_matrix = {}\n",
    "def prcd_mtrx(Prod):\n",
    "    for r in Prod.values():\n",
    "        for rule_s in r:\n",
    "            if len(rule_s)>1:\n",
    "                for i in range(0,len(rule_s)-1):   \n",
    "                    #neighbors are = in precedence                \n",
    "                    precedence_matrix[rule_s[i][0]] = [['=', rule_s[(i+1)]],['-'],['-']]    # symbol : ['=', smthg] ['<', smthg] ['>', smthg]   |  '-' for none\n",
    "                    if rule_s[i][0] in first.keys():\n",
    "                        for r in first[rule_s[i][0]]:\n",
    "                            #but left-side neighbor < its first(right-side neighbor)\n",
    "                            if r not in precedence_matrix.keys():\n",
    "                                precedence_matrix[str(r)] = [['-'],['<', rule_s[(i+1)]],['-']]   \n",
    "                            elif r in precedence_matrix.keys():\n",
    "                                precedence_matrix[str(r)][1] = ['<', rule_s[(i+1)]]\n",
    "                    if rule_s[i][0] in last.keys() and rule_s[i+1][0] in first.keys():\n",
    "                        for rl in last[rule_s[i][0]]:\n",
    "                            #but last(left-side neighbor) > its first(right-side neighbor)\n",
    "                            if rl not in precedence_matrix.keys():\n",
    "                                for f in first(rule_s[(i+1)]):\n",
    "                                    precedence_matrix[str(rl)] = [['-'],['-'],['>', f]]   \n",
    "                            elif r in precedence_matrix.keys():\n",
    "                                precedence_matrix[str(r)][2] = ['>', f]\n",
    "                    if rule_s[i][0] in last.keys() and rule_s[i+1][0] not in first.keys():\n",
    "                    #but last(left-side neighbor) > its right-side terminal-symbol neighbor\n",
    "                        for rl in last[rule_s[i][0]]:\n",
    "                            if rl not in precedence_matrix.keys():\n",
    "                                precedence_matrix[str(rl)] = [['-'],['-'],['>', rule_s[i+1]]]   \n",
    "                            elif r in precedence_matrix.keys() and len(rule_s)>1:\n",
    "                                precedence_matrix[str(r)][2] = ['>', rule_s[i+1]]\n",
    "prcd_mtrx(Prod)\n",
    "precedence_matrix"
   ]
  },
  {
   "cell_type": "code",
   "execution_count": 56,
   "id": "7428bf60",
   "metadata": {},
   "outputs": [
    {
     "name": "stdout",
     "output_type": "stream",
     "text": [
      "Analyzing: a\n",
      "This is what's left in stack:\n",
      "['$', 'a', 'd', 'a', 'b', 'c', 'd', '$']\n",
      "Your input is not accepted.\n"
     ]
    }
   ],
   "source": [
    "strin = 'adabcd'\n",
    "strin2 = 'sdcsdb'  #This one is accepted\n",
    "def pars(stri):\n",
    "    stack = ['$']\n",
    "    accepted = False\n",
    "    for char in stri:\n",
    "        stack.append(char)\n",
    "    stack.append('$')\n",
    "    i_cr = 1\n",
    "    while i_cr <(len(stack)-1):\n",
    "        print(f'Analyzing: {stack[i_cr]}')\n",
    "        if stack[i_cr] in precedence_matrix.keys():\n",
    "            accepted = True\n",
    "            current = stack[i_cr]\n",
    "            nex = stack[i_cr+1]\n",
    "            if nex in precedence_matrix[current][0] or nex in precedence_matrix[current][1]:  #current<=next\n",
    "                stack.remove(current)\n",
    "                current = nex\n",
    "                i_cr+=1\n",
    "            elif nex in precedence_matrix[current][2]:  #current>next\n",
    "                stack.remove(current)\n",
    "                i_cr +=1\n",
    "        else:\n",
    "            accepted = False\n",
    "            break\n",
    "        i_cr +=1\n",
    "    if accepted == True:\n",
    "        print('Your input is accepted.')\n",
    "    else:\n",
    "        print(f'This is what\\'s left in stack:\\n{stack}')\n",
    "        print('Your input is not accepted.')\n",
    "pars(strin)"
   ]
  },
  {
   "cell_type": "code",
   "execution_count": 64,
   "id": "4e556146",
   "metadata": {},
   "outputs": [
    {
     "name": "stdout",
     "output_type": "stream",
     "text": [
      "{'S': ['B'], 'A': ['b', 'Ab'], 'B': ['C', 'CcB', 'd'], 'C': ['sdD'], 'D': ['A']} \n",
      "\n",
      "firstS | ['B', 'C', 'd']\n",
      "firstA | ['b', 'A']\n",
      "firstB | ['C', 'd', 's']\n",
      "firstC | ['s']\n",
      "firstD | ['A', 'b']\n",
      "\n",
      "\n",
      "lastS | ['B', 'b']\n",
      "lastA | ['b']\n",
      "lastB | ['C', 'B', 'd', 'b']\n",
      "lastC | ['D', 'b']\n",
      "lastD | ['A', 'b']\n",
      "\n",
      "\n",
      "A  -   [['=', 'b'], ['<', 'b'], ['>', 'b']] \n",
      "\n",
      "b  -   [['-'], ['<', 'b'], ['-']] \n",
      "\n",
      "C  -   [['=', 'c'], ['-'], ['-']] \n",
      "\n",
      "s  -   [['=', 'd'], ['-'], ['-']] \n",
      "\n",
      "D  -   [['-'], ['-'], ['>', 'c']] \n",
      "\n",
      "c  -   [['=', 'B'], ['-'], ['-']] \n",
      "\n",
      "d  -   [['=', 'D'], ['-'], ['-']] \n",
      "\n",
      "Analyzing: a\n",
      "This is what's left in stack:\n",
      "['$', 'a', 'd', 'a', 'b', 'c', 'd', '$']\n",
      "Your input is not accepted.\n"
     ]
    }
   ],
   "source": [
    "print(Prod, '\\n')\n",
    "frst(Prod)\n",
    "print('\\n')\n",
    "lst(Prod)\n",
    "print('\\n')\n",
    "prcd_mtrx(Prod)\n",
    "for ch, vl in precedence_matrix.items():\n",
    "    print(ch,' -  ', vl, '\\n')\n",
    "pars(strin)"
   ]
  }
 ],
 "metadata": {
  "kernelspec": {
   "display_name": "Python 3",
   "language": "python",
   "name": "python3"
  },
  "language_info": {
   "codemirror_mode": {
    "name": "ipython",
    "version": 3
   },
   "file_extension": ".py",
   "mimetype": "text/x-python",
   "name": "python",
   "nbconvert_exporter": "python",
   "pygments_lexer": "ipython3",
   "version": "3.8.8"
  }
 },
 "nbformat": 4,
 "nbformat_minor": 5
}
